{
 "cells": [
  {
   "cell_type": "code",
   "execution_count": 36,
   "id": "d2181af4-6bbb-4917-9734-adeaa6a24a49",
   "metadata": {},
   "outputs": [],
   "source": [
    "from vidCon.vcon_class import InitiateVcon\n",
    "from vidCon.videoCon import GetVcon\n",
    "from vidCon.NER import PrivacyFilter\n",
    "from vidCon.SoundScrubber import SoundScrubber"
   ]
  },
  {
   "cell_type": "code",
   "execution_count": 37,
   "id": "3ac7957d-8716-4ab7-9770-2a615d29975e",
   "metadata": {},
   "outputs": [
    {
     "name": "stdout",
     "output_type": "stream",
     "text": [
      "{'signature': 'digital-signature-value', 'algorithm': '', 'algorithms': 'SHA-256'}\n"
     ]
    }
   ],
   "source": [
    "vCon = InitiateVcon()"
   ]
  },
  {
   "cell_type": "code",
   "execution_count": 38,
   "id": "8350151d-2170-4290-844d-5b2fb0683869",
   "metadata": {},
   "outputs": [],
   "source": [
    "#initialize vcon\n",
    "audio_file_name = \"./uploads/a.mp3\"\n",
    "\n",
    "vcon_processor = GetVcon(audio_file_name)\n",
    "vcon_processor.read_audio()\n",
    "vcon_processor.decode_audio()\n",
    "vcon_processor.writeTempFile()\n",
    "vcon_processor.transcribe_audio()"
   ]
  },
  {
   "cell_type": "code",
   "execution_count": 39,
   "id": "92da9bbb-3d0b-4d06-b521-d20d604043d5",
   "metadata": {},
   "outputs": [],
   "source": [
    "transcribed_text = vcon_processor.vcon_['transcription']['transcribed_text']\n",
    "transcribed_timestamps = vcon_processor.vcon_['transcription']['transcribed_word_timestamps']"
   ]
  },
  {
   "cell_type": "code",
   "execution_count": 40,
   "id": "2d4bd247-08b3-4834-8732-3f9916a7812d",
   "metadata": {},
   "outputs": [
    {
     "name": "stdout",
     "output_type": "stream",
     "text": [
      "--- Model loading.... ---\n",
      "--- Model loaded! ---\n"
     ]
    }
   ],
   "source": [
    "privacy_filter = PrivacyFilter()\n",
    "entities = privacy_filter.getEntities(transcribed_text)"
   ]
  },
  {
   "cell_type": "code",
   "execution_count": 41,
   "id": "43563922-3284-44c4-ae00-8e2f9aab2b00",
   "metadata": {},
   "outputs": [
    {
     "name": "stdout",
     "output_type": "stream",
     "text": [
      "Redacted audio saved at ./redacted.mp3\n",
      "Processing complete. Check the output audio file for redacted content.\n"
     ]
    }
   ],
   "source": [
    "sound_scrubber = SoundScrubber(audio_file_name)\n",
    "words_to_silence = sound_scrubber.getWordsToSilence(entities)\n",
    "words_to_silence  = [j for i in words_to_silence for j in i]\n",
    "sound_scrubber.silenceAudio(words_to_silence, transcribed_timestamps)\n",
    "print(\"Processing complete. Check the output audio file for redacted content.\")"
   ]
  },
  {
   "cell_type": "code",
   "execution_count": 42,
   "id": "db9595d5-43ce-42f4-84be-14ff57ede3c6",
   "metadata": {},
   "outputs": [],
   "source": [
    "from datetime import datetime"
   ]
  },
  {
   "cell_type": "code",
   "execution_count": 43,
   "id": "d0274117-1c18-4388-b573-5f291d734f85",
   "metadata": {},
   "outputs": [
    {
     "data": {
      "text/plain": [
       "'2024-03-15 20:24:40.078255'"
      ]
     },
     "execution_count": 43,
     "metadata": {},
     "output_type": "execute_result"
    }
   ],
   "source": [
    "dt = datetime.now()\n",
    "normal_form = dt.strftime(\"%Y-%m-%d %H:%M:%S.%f\")\n",
    "normal_form"
   ]
  },
  {
   "cell_type": "code",
   "execution_count": 44,
   "id": "b778b5b2-cab6-4f94-b700-eb9b4b20853d",
   "metadata": {},
   "outputs": [],
   "source": [
    "vCon.json_data['dialog'][0]['timestamp'] = normal_form"
   ]
  },
  {
   "cell_type": "code",
   "execution_count": 45,
   "id": "a9f8ccf8-25e4-478c-b1ab-da8e1c8c75e9",
   "metadata": {},
   "outputs": [],
   "source": [
    "vCon.json_data['dialog'][0]['content'] = vcon_processor.encoded_bytes"
   ]
  },
  {
   "cell_type": "code",
   "execution_count": 50,
   "id": "cddf90d5-c66e-4f80-a018-004a38dd9c27",
   "metadata": {},
   "outputs": [],
   "source": [
    "vCon.json_data['analysis']['transcriptions'][0]['text'] = transcribed_text"
   ]
  },
  {
   "cell_type": "code",
   "execution_count": 53,
   "id": "68594e26-ec3e-403f-a88f-cc96d56c651e",
   "metadata": {},
   "outputs": [],
   "source": [
    "vCon.json_data['analysis']['entities'] = entities"
   ]
  },
  {
   "cell_type": "code",
   "execution_count": 55,
   "id": "8f8adad7-78c3-406c-bbd3-32176df4ea21",
   "metadata": {},
   "outputs": [],
   "source": [
    "vCon.json_data['analysis']['transcribed_timestamps'] = transcribed_timestamps"
   ]
  },
  {
   "cell_type": "code",
   "execution_count": null,
   "id": "75b691da-f59e-4716-8ebc-fd1f88bdb0d6",
   "metadata": {},
   "outputs": [],
   "source": []
  }
 ],
 "metadata": {
  "kernelspec": {
   "display_name": "Python 3 (ipykernel)",
   "language": "python",
   "name": "python3"
  },
  "language_info": {
   "codemirror_mode": {
    "name": "ipython",
    "version": 3
   },
   "file_extension": ".py",
   "mimetype": "text/x-python",
   "name": "python",
   "nbconvert_exporter": "python",
   "pygments_lexer": "ipython3",
   "version": "3.8.9"
  }
 },
 "nbformat": 4,
 "nbformat_minor": 5
}
