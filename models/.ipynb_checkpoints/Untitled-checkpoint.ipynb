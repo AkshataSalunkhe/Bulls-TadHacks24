{
 "cells": [
  {
   "cell_type": "markdown",
   "id": "0968cb0e-3bb2-46bc-aa60-b9b266f36e9e",
   "metadata": {},
   "source": [
    "# Read Audio"
   ]
  },
  {
   "cell_type": "code",
   "execution_count": 48,
   "id": "37657b6a-e9a0-46e4-aca4-b2a335a855af",
   "metadata": {},
   "outputs": [],
   "source": [
    "import whisper\n",
    "import os\n",
    "from io import BytesIO\n",
    "import jose.utils\n",
    "import jose.jws\n",
    "import pandas as pd\n",
    "import jose.jwe"
   ]
  },
  {
   "cell_type": "code",
   "execution_count": 16,
   "id": "83006bd7-98ec-4067-aa8d-614b8d1cfcae",
   "metadata": {},
   "outputs": [],
   "source": [
    "file_path = './audio/a.mp3'"
   ]
  },
  {
   "cell_type": "markdown",
   "id": "0cc61080-daca-436a-ba7d-70c4436ad439",
   "metadata": {},
   "source": [
    "#### Read and encode audio"
   ]
  },
  {
   "cell_type": "code",
   "execution_count": 21,
   "id": "b8658f61-a3ee-447b-9857-384225a70068",
   "metadata": {},
   "outputs": [],
   "source": [
    "def read_audio(recordingName):\n",
    "    with open(recordingName, 'rb') as file_handle:\n",
    "        recording_bytes = file_handle.read()\n",
    "        encoded_bytes = jose.utils.base64url_encode(recording_bytes).decode('utf-8')\n",
    "    # return byte form\n",
    "    return bytes(encoded_bytes,'utf-8')"
   ]
  },
  {
   "cell_type": "code",
   "execution_count": 20,
   "id": "e523be01-1ef1-4aaf-ab6d-6d8c86bb08d2",
   "metadata": {},
   "outputs": [
    {
     "data": {
      "text/plain": [
       "b'SUQzB'"
      ]
     },
     "execution_count": 20,
     "metadata": {},
     "output_type": "execute_result"
    }
   ],
   "source": [
    "enc_audio = read_audio(file_path)\n",
    "enc_audio[:5]"
   ]
  },
  {
   "cell_type": "markdown",
   "id": "f8e34f19-534b-4877-9281-9ace661cd328",
   "metadata": {},
   "source": [
    "#### Transcribe audio"
   ]
  },
  {
   "cell_type": "markdown",
   "id": "0e8c1526-4e5e-4a66-b38d-40c00cfa25fb",
   "metadata": {},
   "source": [
    "#### Load model"
   ]
  },
  {
   "cell_type": "code",
   "execution_count": 43,
   "id": "b34415bd-1580-4e19-82bf-aa030c77996b",
   "metadata": {},
   "outputs": [],
   "source": [
    "model = whisper.load_model(\"base\")"
   ]
  },
  {
   "cell_type": "code",
   "execution_count": 44,
   "id": "d86152d4-5fc5-48df-998b-aadff3ae7647",
   "metadata": {},
   "outputs": [],
   "source": [
    "decoded_body = jose.utils.base64url_decode(enc_audio)"
   ]
  },
  {
   "cell_type": "markdown",
   "id": "8bffec38-041c-41ae-8d96-e6e4d9bc8926",
   "metadata": {},
   "source": [
    "#### Save a temporary file"
   ]
  },
  {
   "cell_type": "code",
   "execution_count": 45,
   "id": "2dbe3abe-a34b-43e1-aab6-f327dd6c2644",
   "metadata": {},
   "outputs": [],
   "source": [
    "tmp_file = open(\"./_temp_file\", 'wb')\n",
    "tmp_file.write(decoded_body)\n",
    "tmp_file.close()"
   ]
  },
  {
   "cell_type": "code",
   "execution_count": 46,
   "id": "69da50fa-29fd-4b34-8ae1-e59e0bed8bf3",
   "metadata": {},
   "outputs": [
    {
     "name": "stdout",
     "output_type": "stream",
     "text": [
      "CPU times: user 8.09 s, sys: 4.59 s, total: 12.7 s\n",
      "Wall time: 2.62 s\n"
     ]
    }
   ],
   "source": [
    "%%time\n",
    "transcription = model.transcribe('./_temp_file', fp16=False,word_timestamps=True,language='English')\n",
    "transcribed_text = transcription['text']\n",
    "transcribed_word_timestamps = transcription['segments'][0]['words']"
   ]
  },
  {
   "cell_type": "code",
   "execution_count": 64,
   "id": "17d07a24-7224-4237-a8af-ca5a5ef3b664",
   "metadata": {},
   "outputs": [
    {
     "data": {
      "text/plain": [
       "[{'word': ' Hey', 'start': 0.0, 'end': 1.14, 'probability': 0.694226086139679},\n",
       " {'word': ' my',\n",
       "  'start': 1.14,\n",
       "  'end': 2.04,\n",
       "  'probability': 0.29764410853385925},\n",
       " {'word': ' name',\n",
       "  'start': 2.04,\n",
       "  'end': 2.28,\n",
       "  'probability': 0.996715784072876},\n",
       " {'word': ' is',\n",
       "  'start': 2.28,\n",
       "  'end': 2.46,\n",
       "  'probability': 0.9935603141784668},\n",
       " {'word': ' John',\n",
       "  'start': 2.46,\n",
       "  'end': 2.74,\n",
       "  'probability': 0.7001069784164429},\n",
       " {'word': ' my',\n",
       "  'start': 2.74,\n",
       "  'end': 3.96,\n",
       "  'probability': 0.44776391983032227},\n",
       " {'word': ' phone',\n",
       "  'start': 3.96,\n",
       "  'end': 4.26,\n",
       "  'probability': 0.9741031527519226},\n",
       " {'word': ' number',\n",
       "  'start': 4.26,\n",
       "  'end': 4.56,\n",
       "  'probability': 0.9960719347000122},\n",
       " {'word': ' is',\n",
       "  'start': 4.56,\n",
       "  'end': 4.88,\n",
       "  'probability': 0.9915987253189087},\n",
       " {'word': ' 813',\n",
       "  'start': 4.88,\n",
       "  'end': 5.78,\n",
       "  'probability': 0.8989248275756836}]"
      ]
     },
     "execution_count": 64,
     "metadata": {},
     "output_type": "execute_result"
    }
   ],
   "source": [
    "transcribed_word_timestamps[:10]"
   ]
  },
  {
   "cell_type": "markdown",
   "id": "591763dc-748f-4810-87a1-3d2f532fd053",
   "metadata": {},
   "source": [
    "#### Redaction"
   ]
  },
  {
   "cell_type": "code",
   "execution_count": 55,
   "id": "ba5123cc-793d-4569-aec9-c3bddc6df5a7",
   "metadata": {},
   "outputs": [],
   "source": [
    "from transformers import pipeline"
   ]
  },
  {
   "cell_type": "code",
   "execution_count": 56,
   "id": "487f35ab-17c2-42c7-9819-bf716599ea41",
   "metadata": {},
   "outputs": [],
   "source": [
    "gen = pipeline(\"token-classification\", \"lakshyakh93/deberta_finetuned_pii\", device=-1)"
   ]
  },
  {
   "cell_type": "code",
   "execution_count": 57,
   "id": "dff22b16-347b-45a0-891f-71154a2e2b2c",
   "metadata": {},
   "outputs": [
    {
     "name": "stderr",
     "output_type": "stream",
     "text": [
      "/Users/suraj/Library/Python/3.8/lib/python/site-packages/transformers/pipelines/token_classification.py:392: UserWarning: Tokenizer does not support real words, using fallback heuristic\n",
      "  warnings.warn(\n"
     ]
    }
   ],
   "source": [
    "output = gen(transcribed_text, aggregation_strategy=\"first\")"
   ]
  },
  {
   "cell_type": "code",
   "execution_count": 61,
   "id": "4dedf2d3-2f6e-47c1-a305-95c23e9f7a7c",
   "metadata": {},
   "outputs": [
    {
     "data": {
      "text/plain": [
       "[' John', ' 813-567-980', ' Lake Viox']"
      ]
     },
     "execution_count": 61,
     "metadata": {},
     "output_type": "execute_result"
    }
   ],
   "source": [
    "words_to_silence = [i['word'] for i in output]\n",
    "words_to_silence"
   ]
  },
  {
   "cell_type": "code",
   "execution_count": 103,
   "id": "cfeeef47-b54c-45e8-8f13-0fc28ab902ca",
   "metadata": {},
   "outputs": [],
   "source": [
    "timetamps_silence = [((j['start']-0.05)*1000,(j['end']+0.2)*1000) for j in transcribed_word_timestamps if j['word'] in words_to_silence]"
   ]
  },
  {
   "cell_type": "code",
   "execution_count": 104,
   "id": "676ffc1a-576d-48d1-a7f2-898c7dbe46fa",
   "metadata": {},
   "outputs": [
    {
     "data": {
      "text/plain": [
       "[(2410.0, 2840.0000000000005)]"
      ]
     },
     "execution_count": 104,
     "metadata": {},
     "output_type": "execute_result"
    }
   ],
   "source": [
    "timetamps_silence"
   ]
  },
  {
   "cell_type": "code",
   "execution_count": 105,
   "id": "7612952b-c405-4eb2-91d1-d54bfefa5678",
   "metadata": {},
   "outputs": [],
   "source": [
    "from pydub import AudioSegment"
   ]
  },
  {
   "cell_type": "code",
   "execution_count": 106,
   "id": "152d3944-aa20-4c5f-b684-86c4a3381501",
   "metadata": {},
   "outputs": [],
   "source": [
    "audio = AudioSegment.from_file(file_path)"
   ]
  },
  {
   "cell_type": "code",
   "execution_count": 107,
   "id": "0468de6b-d2b5-4b63-89f4-1ec202a84230",
   "metadata": {},
   "outputs": [],
   "source": [
    "for start, end in timetamps_silence:\n",
    "    silence = AudioSegment.silent(duration=end - start)\n",
    "    audio = audio[:start] + silence + audio[end:]"
   ]
  },
  {
   "cell_type": "code",
   "execution_count": 108,
   "id": "4b844a0a-9c13-4877-8d29-2bef5af3b65b",
   "metadata": {},
   "outputs": [
    {
     "data": {
      "text/plain": [
       "<_io.BufferedRandom name='./audio/redacted_a.mp3'>"
      ]
     },
     "execution_count": 108,
     "metadata": {},
     "output_type": "execute_result"
    }
   ],
   "source": [
    "audio.export(\"./audio/redacted_a.mp3\", format=\"mp3\")\n"
   ]
  },
  {
   "cell_type": "code",
   "execution_count": null,
   "id": "38cf8c05-3cf3-423f-bf53-654aa98eabee",
   "metadata": {},
   "outputs": [],
   "source": []
  },
  {
   "cell_type": "code",
   "execution_count": null,
   "id": "90575d82-7482-4adf-b48a-8b64b0cf5ad9",
   "metadata": {},
   "outputs": [],
   "source": []
  }
 ],
 "metadata": {
  "kernelspec": {
   "display_name": "Python 3 (ipykernel)",
   "language": "python",
   "name": "python3"
  },
  "language_info": {
   "codemirror_mode": {
    "name": "ipython",
    "version": 3
   },
   "file_extension": ".py",
   "mimetype": "text/x-python",
   "name": "python",
   "nbconvert_exporter": "python",
   "pygments_lexer": "ipython3",
   "version": "3.8.9"
  }
 },
 "nbformat": 4,
 "nbformat_minor": 5
}
