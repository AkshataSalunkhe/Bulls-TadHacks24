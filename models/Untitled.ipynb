{
 "cells": [
  {
   "cell_type": "markdown",
   "id": "0968cb0e-3bb2-46bc-aa60-b9b266f36e9e",
   "metadata": {},
   "source": [
    "# Read Audio"
   ]
  },
  {
   "cell_type": "code",
   "execution_count": 13,
   "id": "37657b6a-e9a0-46e4-aca4-b2a335a855af",
   "metadata": {},
   "outputs": [],
   "source": [
    "import whisper\n",
    "import os\n",
    "from io import BytesIO\n",
    "import jose.utils\n",
    "import jose.jws\n",
    "import pandas as pd\n",
    "import jose.jwe"
   ]
  },
  {
   "cell_type": "code",
   "execution_count": 14,
   "id": "83006bd7-98ec-4067-aa8d-614b8d1cfcae",
   "metadata": {},
   "outputs": [],
   "source": [
    "file_path = './audio/a.mp3'"
   ]
  },
  {
   "cell_type": "markdown",
   "id": "0cc61080-daca-436a-ba7d-70c4436ad439",
   "metadata": {},
   "source": [
    "#### Read and encode audio"
   ]
  },
  {
   "cell_type": "code",
   "execution_count": 15,
   "id": "b8658f61-a3ee-447b-9857-384225a70068",
   "metadata": {},
   "outputs": [],
   "source": [
    "def read_audio(recordingName):\n",
    "    with open(recordingName, 'rb') as file_handle:\n",
    "        recording_bytes = file_handle.read()\n",
    "        encoded_bytes = jose.utils.base64url_encode(recording_bytes).decode('utf-8')\n",
    "    # return byte form\n",
    "    return bytes(encoded_bytes,'utf-8')"
   ]
  },
  {
   "cell_type": "code",
   "execution_count": 16,
   "id": "e523be01-1ef1-4aaf-ab6d-6d8c86bb08d2",
   "metadata": {},
   "outputs": [
    {
     "data": {
      "text/plain": [
       "b'SUQzB'"
      ]
     },
     "execution_count": 16,
     "metadata": {},
     "output_type": "execute_result"
    }
   ],
   "source": [
    "enc_audio = read_audio(file_path)\n",
    "enc_audio[:5]"
   ]
  },
  {
   "cell_type": "markdown",
   "id": "f8e34f19-534b-4877-9281-9ace661cd328",
   "metadata": {},
   "source": [
    "#### Transcribe audio"
   ]
  },
  {
   "cell_type": "markdown",
   "id": "0e8c1526-4e5e-4a66-b38d-40c00cfa25fb",
   "metadata": {},
   "source": [
    "#### Load model"
   ]
  },
  {
   "cell_type": "code",
   "execution_count": 17,
   "id": "b34415bd-1580-4e19-82bf-aa030c77996b",
   "metadata": {},
   "outputs": [],
   "source": [
    "model = whisper.load_model(\"base\")"
   ]
  },
  {
   "cell_type": "code",
   "execution_count": 18,
   "id": "d86152d4-5fc5-48df-998b-aadff3ae7647",
   "metadata": {},
   "outputs": [],
   "source": [
    "decoded_body = jose.utils.base64url_decode(enc_audio)"
   ]
  },
  {
   "cell_type": "markdown",
   "id": "8bffec38-041c-41ae-8d96-e6e4d9bc8926",
   "metadata": {},
   "source": [
    "#### Save a temporary file"
   ]
  },
  {
   "cell_type": "code",
   "execution_count": 19,
   "id": "2dbe3abe-a34b-43e1-aab6-f327dd6c2644",
   "metadata": {},
   "outputs": [],
   "source": [
    "tmp_file = open(\"./_temp_file\", 'wb')\n",
    "tmp_file.write(decoded_body)\n",
    "tmp_file.close()"
   ]
  },
  {
   "cell_type": "code",
   "execution_count": 20,
   "id": "69da50fa-29fd-4b34-8ae1-e59e0bed8bf3",
   "metadata": {},
   "outputs": [
    {
     "name": "stdout",
     "output_type": "stream",
     "text": [
      "CPU times: user 8.3 s, sys: 4.59 s, total: 12.9 s\n",
      "Wall time: 3.05 s\n"
     ]
    }
   ],
   "source": [
    "%%time\n",
    "transcription = model.transcribe('./_temp_file', fp16=False,word_timestamps=True,language='English')\n",
    "transcribed_text = transcription['text']\n",
    "transcribed_word_timestamps = transcription['segments'][0]['words']"
   ]
  },
  {
   "cell_type": "code",
   "execution_count": 21,
   "id": "17d07a24-7224-4237-a8af-ca5a5ef3b664",
   "metadata": {},
   "outputs": [
    {
     "data": {
      "text/plain": [
       "[{'word': ' Hey', 'start': 0.0, 'end': 1.14, 'probability': 0.694226086139679},\n",
       " {'word': ' my',\n",
       "  'start': 1.14,\n",
       "  'end': 2.04,\n",
       "  'probability': 0.29764410853385925},\n",
       " {'word': ' name',\n",
       "  'start': 2.04,\n",
       "  'end': 2.28,\n",
       "  'probability': 0.996715784072876},\n",
       " {'word': ' is',\n",
       "  'start': 2.28,\n",
       "  'end': 2.46,\n",
       "  'probability': 0.9935603141784668},\n",
       " {'word': ' John',\n",
       "  'start': 2.46,\n",
       "  'end': 2.74,\n",
       "  'probability': 0.7001069784164429},\n",
       " {'word': ' my',\n",
       "  'start': 2.74,\n",
       "  'end': 3.96,\n",
       "  'probability': 0.44776391983032227},\n",
       " {'word': ' phone',\n",
       "  'start': 3.96,\n",
       "  'end': 4.26,\n",
       "  'probability': 0.9741031527519226},\n",
       " {'word': ' number',\n",
       "  'start': 4.26,\n",
       "  'end': 4.56,\n",
       "  'probability': 0.9960719347000122},\n",
       " {'word': ' is',\n",
       "  'start': 4.56,\n",
       "  'end': 4.88,\n",
       "  'probability': 0.9915987253189087},\n",
       " {'word': ' 813',\n",
       "  'start': 4.88,\n",
       "  'end': 5.78,\n",
       "  'probability': 0.8989248275756836}]"
      ]
     },
     "execution_count": 21,
     "metadata": {},
     "output_type": "execute_result"
    }
   ],
   "source": [
    "transcribed_word_timestamps[:10]"
   ]
  },
  {
   "cell_type": "markdown",
   "id": "591763dc-748f-4810-87a1-3d2f532fd053",
   "metadata": {},
   "source": [
    "#### Redaction"
   ]
  },
  {
   "cell_type": "code",
   "execution_count": 55,
   "id": "ba5123cc-793d-4569-aec9-c3bddc6df5a7",
   "metadata": {},
   "outputs": [],
   "source": [
    "from transformers import pipeline"
   ]
  },
  {
   "cell_type": "code",
   "execution_count": 56,
   "id": "487f35ab-17c2-42c7-9819-bf716599ea41",
   "metadata": {},
   "outputs": [],
   "source": [
    "gen = pipeline(\"token-classification\", \"lakshyakh93/deberta_finetuned_pii\", device=-1)"
   ]
  },
  {
   "cell_type": "code",
   "execution_count": 57,
   "id": "dff22b16-347b-45a0-891f-71154a2e2b2c",
   "metadata": {},
   "outputs": [
    {
     "name": "stderr",
     "output_type": "stream",
     "text": [
      "/Users/suraj/Library/Python/3.8/lib/python/site-packages/transformers/pipelines/token_classification.py:392: UserWarning: Tokenizer does not support real words, using fallback heuristic\n",
      "  warnings.warn(\n"
     ]
    }
   ],
   "source": [
    "output = gen(transcribed_text, aggregation_strategy=\"first\")"
   ]
  },
  {
   "cell_type": "code",
   "execution_count": 61,
   "id": "4dedf2d3-2f6e-47c1-a305-95c23e9f7a7c",
   "metadata": {},
   "outputs": [
    {
     "data": {
      "text/plain": [
       "[' John', ' 813-567-980', ' Lake Viox']"
      ]
     },
     "execution_count": 61,
     "metadata": {},
     "output_type": "execute_result"
    }
   ],
   "source": [
    "words_to_silence = [i['word'] for i in output]\n",
    "words_to_silence"
   ]
  },
  {
   "cell_type": "code",
   "execution_count": 109,
   "id": "cfeeef47-b54c-45e8-8f13-0fc28ab902ca",
   "metadata": {},
   "outputs": [],
   "source": [
    "timetamps_silence = [((j['start']-0.05)*1000,(j['end']+0.2)*1000) for j in transcribed_word_timestamps if j['word'] in words_to_silence]"
   ]
  },
  {
   "cell_type": "code",
   "execution_count": 110,
   "id": "676ffc1a-576d-48d1-a7f2-898c7dbe46fa",
   "metadata": {},
   "outputs": [
    {
     "data": {
      "text/plain": [
       "[(2410.0, 2940.0000000000005)]"
      ]
     },
     "execution_count": 110,
     "metadata": {},
     "output_type": "execute_result"
    }
   ],
   "source": [
    "timetamps_silence"
   ]
  },
  {
   "cell_type": "code",
   "execution_count": 111,
   "id": "7612952b-c405-4eb2-91d1-d54bfefa5678",
   "metadata": {},
   "outputs": [],
   "source": [
    "from pydub import AudioSegment"
   ]
  },
  {
   "cell_type": "code",
   "execution_count": 112,
   "id": "152d3944-aa20-4c5f-b684-86c4a3381501",
   "metadata": {},
   "outputs": [],
   "source": [
    "audio = AudioSegment.from_file(file_path)"
   ]
  },
  {
   "cell_type": "code",
   "execution_count": 113,
   "id": "0468de6b-d2b5-4b63-89f4-1ec202a84230",
   "metadata": {},
   "outputs": [],
   "source": []
  },
  {
   "cell_type": "code",
   "execution_count": 119,
   "id": "0e7c3316-5b7a-47bf-b332-8c25c90557cf",
   "metadata": {},
   "outputs": [
    {
     "data": {
      "text/plain": [
       "[(2410.0, 2940.0000000000005)]"
      ]
     },
     "execution_count": 119,
     "metadata": {},
     "output_type": "execute_result"
    }
   ],
   "source": [
    "timetamps_silence"
   ]
  },
  {
   "cell_type": "code",
   "execution_count": 129,
   "id": "8f22e5d2-a6d4-497f-a01b-5d3ce73ed091",
   "metadata": {},
   "outputs": [
    {
     "ename": "TypeError",
     "evalue": "expected string or bytes-like object",
     "output_type": "error",
     "traceback": [
      "\u001b[0;31m---------------------------------------------------------------------------\u001b[0m",
      "\u001b[0;31mTypeError\u001b[0m                                 Traceback (most recent call last)",
      "Cell \u001b[0;32mIn[129], line 6\u001b[0m\n\u001b[1;32m      2\u001b[0m \u001b[38;5;28;01mdef\u001b[39;00m \u001b[38;5;21mreplace_special_characters_with_space\u001b[39m(text):\n\u001b[1;32m      3\u001b[0m     \u001b[38;5;66;03m# This will replace all non-alphanumeric characters with spaces\u001b[39;00m\n\u001b[1;32m      4\u001b[0m     \u001b[38;5;66;03m# If you want to keep underscores, remove the underscore from the regex pattern\u001b[39;00m\n\u001b[1;32m      5\u001b[0m     \u001b[38;5;28;01mreturn\u001b[39;00m re\u001b[38;5;241m.\u001b[39msub(\u001b[38;5;124mr\u001b[39m\u001b[38;5;124m'\u001b[39m\u001b[38;5;124m\\\u001b[39m\u001b[38;5;124mW|_\u001b[39m\u001b[38;5;124m'\u001b[39m, \u001b[38;5;124m'\u001b[39m\u001b[38;5;124m \u001b[39m\u001b[38;5;124m'\u001b[39m, text)\n\u001b[0;32m----> 6\u001b[0m words_to_silence \u001b[38;5;241m=\u001b[39m [replace_special_characters_with_space(i)\u001b[38;5;241m.\u001b[39msplit() \u001b[38;5;28;01mfor\u001b[39;00m i \u001b[38;5;129;01min\u001b[39;00m words_to_silence]\n",
      "Cell \u001b[0;32mIn[129], line 6\u001b[0m, in \u001b[0;36m<listcomp>\u001b[0;34m(.0)\u001b[0m\n\u001b[1;32m      2\u001b[0m \u001b[38;5;28;01mdef\u001b[39;00m \u001b[38;5;21mreplace_special_characters_with_space\u001b[39m(text):\n\u001b[1;32m      3\u001b[0m     \u001b[38;5;66;03m# This will replace all non-alphanumeric characters with spaces\u001b[39;00m\n\u001b[1;32m      4\u001b[0m     \u001b[38;5;66;03m# If you want to keep underscores, remove the underscore from the regex pattern\u001b[39;00m\n\u001b[1;32m      5\u001b[0m     \u001b[38;5;28;01mreturn\u001b[39;00m re\u001b[38;5;241m.\u001b[39msub(\u001b[38;5;124mr\u001b[39m\u001b[38;5;124m'\u001b[39m\u001b[38;5;124m\\\u001b[39m\u001b[38;5;124mW|_\u001b[39m\u001b[38;5;124m'\u001b[39m, \u001b[38;5;124m'\u001b[39m\u001b[38;5;124m \u001b[39m\u001b[38;5;124m'\u001b[39m, text)\n\u001b[0;32m----> 6\u001b[0m words_to_silence \u001b[38;5;241m=\u001b[39m [\u001b[43mreplace_special_characters_with_space\u001b[49m\u001b[43m(\u001b[49m\u001b[43mi\u001b[49m\u001b[43m)\u001b[49m\u001b[38;5;241m.\u001b[39msplit() \u001b[38;5;28;01mfor\u001b[39;00m i \u001b[38;5;129;01min\u001b[39;00m words_to_silence]\n",
      "Cell \u001b[0;32mIn[129], line 5\u001b[0m, in \u001b[0;36mreplace_special_characters_with_space\u001b[0;34m(text)\u001b[0m\n\u001b[1;32m      2\u001b[0m \u001b[38;5;28;01mdef\u001b[39;00m \u001b[38;5;21mreplace_special_characters_with_space\u001b[39m(text):\n\u001b[1;32m      3\u001b[0m     \u001b[38;5;66;03m# This will replace all non-alphanumeric characters with spaces\u001b[39;00m\n\u001b[1;32m      4\u001b[0m     \u001b[38;5;66;03m# If you want to keep underscores, remove the underscore from the regex pattern\u001b[39;00m\n\u001b[0;32m----> 5\u001b[0m     \u001b[38;5;28;01mreturn\u001b[39;00m \u001b[43mre\u001b[49m\u001b[38;5;241;43m.\u001b[39;49m\u001b[43msub\u001b[49m\u001b[43m(\u001b[49m\u001b[38;5;124;43mr\u001b[39;49m\u001b[38;5;124;43m'\u001b[39;49m\u001b[38;5;124;43m\\\u001b[39;49m\u001b[38;5;124;43mW|_\u001b[39;49m\u001b[38;5;124;43m'\u001b[39;49m\u001b[43m,\u001b[49m\u001b[43m \u001b[49m\u001b[38;5;124;43m'\u001b[39;49m\u001b[38;5;124;43m \u001b[39;49m\u001b[38;5;124;43m'\u001b[39;49m\u001b[43m,\u001b[49m\u001b[43m \u001b[49m\u001b[43mtext\u001b[49m\u001b[43m)\u001b[49m\n",
      "File \u001b[0;32m/Library/Developer/CommandLineTools/Library/Frameworks/Python3.framework/Versions/3.8/lib/python3.8/re.py:210\u001b[0m, in \u001b[0;36msub\u001b[0;34m(pattern, repl, string, count, flags)\u001b[0m\n\u001b[1;32m    203\u001b[0m \u001b[38;5;28;01mdef\u001b[39;00m \u001b[38;5;21msub\u001b[39m(pattern, repl, string, count\u001b[38;5;241m=\u001b[39m\u001b[38;5;241m0\u001b[39m, flags\u001b[38;5;241m=\u001b[39m\u001b[38;5;241m0\u001b[39m):\n\u001b[1;32m    204\u001b[0m \u001b[38;5;250m    \u001b[39m\u001b[38;5;124;03m\"\"\"Return the string obtained by replacing the leftmost\u001b[39;00m\n\u001b[1;32m    205\u001b[0m \u001b[38;5;124;03m    non-overlapping occurrences of the pattern in string by the\u001b[39;00m\n\u001b[1;32m    206\u001b[0m \u001b[38;5;124;03m    replacement repl.  repl can be either a string or a callable;\u001b[39;00m\n\u001b[1;32m    207\u001b[0m \u001b[38;5;124;03m    if a string, backslash escapes in it are processed.  If it is\u001b[39;00m\n\u001b[1;32m    208\u001b[0m \u001b[38;5;124;03m    a callable, it's passed the Match object and must return\u001b[39;00m\n\u001b[1;32m    209\u001b[0m \u001b[38;5;124;03m    a replacement string to be used.\"\"\"\u001b[39;00m\n\u001b[0;32m--> 210\u001b[0m     \u001b[38;5;28;01mreturn\u001b[39;00m \u001b[43m_compile\u001b[49m\u001b[43m(\u001b[49m\u001b[43mpattern\u001b[49m\u001b[43m,\u001b[49m\u001b[43m \u001b[49m\u001b[43mflags\u001b[49m\u001b[43m)\u001b[49m\u001b[38;5;241;43m.\u001b[39;49m\u001b[43msub\u001b[49m\u001b[43m(\u001b[49m\u001b[43mrepl\u001b[49m\u001b[43m,\u001b[49m\u001b[43m \u001b[49m\u001b[43mstring\u001b[49m\u001b[43m,\u001b[49m\u001b[43m \u001b[49m\u001b[43mcount\u001b[49m\u001b[43m)\u001b[49m\n",
      "\u001b[0;31mTypeError\u001b[0m: expected string or bytes-like object"
     ]
    }
   ],
   "source": [
    "import re\n",
    "def replace_special_characters_with_space(text):\n",
    "    # This will replace all non-alphanumeric characters with spaces\n",
    "    # If you want to keep underscores, remove the underscore from the regex pattern\n",
    "    return re.sub(r'\\W|_', ' ', text)\n",
    "words_to_silence = [replace_special_characters_with_space(i).split() for i in words_to_silence]"
   ]
  },
  {
   "cell_type": "code",
   "execution_count": 140,
   "id": "cf047b93-eb39-4b77-9949-75cccbe07413",
   "metadata": {},
   "outputs": [],
   "source": [
    "words_to_silence = [j for i in words_to_silence for j in i]"
   ]
  },
  {
   "cell_type": "code",
   "execution_count": 143,
   "id": "11644a9a-a0d7-45f9-b1e8-a30db411f439",
   "metadata": {},
   "outputs": [
    {
     "data": {
      "text/plain": [
       "[(2460.0, 2740.0),\n",
       " (4880.0, 5780.0),\n",
       " (5780.0, 7300.0),\n",
       " (7300.0, 8600.0),\n",
       " (10100.0, 10340.0),\n",
       " (10520.0, 10700.0),\n",
       " (10700.0, 11240.0)]"
      ]
     },
     "execution_count": 143,
     "metadata": {},
     "output_type": "execute_result"
    }
   ],
   "source": [
    "silence_segments = []\n",
    "\n",
    "for ts in transcribed_word_timestamps:\n",
    "    # Normalize the word for matching (strip leading/trailing spaces and convert to lowercase)\n",
    "    normalized_word = ts['word'].strip().lower()\n",
    "    if any(word[0].strip().lower() in normalized_word for word in words_to_silence):\n",
    "        silence_segments.append((ts['start']*1000, ts['end']*1000))\n",
    "\n",
    "silence_segments"
   ]
  },
  {
   "cell_type": "code",
   "execution_count": 146,
   "id": "4e603d73-410c-4efb-a6a2-563d0c225f9b",
   "metadata": {},
   "outputs": [],
   "source": [
    "delta_start = 0.0\n",
    "delta_end = 0.05\n",
    "for start, end in silence_segments:\n",
    "    start += delta_start\n",
    "    end += delta_end\n",
    "    silence = AudioSegment.silent(duration=end - start)\n",
    "    audio = audio[:start] + silence + audio[end:]"
   ]
  },
  {
   "cell_type": "code",
   "execution_count": 147,
   "id": "4b844a0a-9c13-4877-8d29-2bef5af3b65b",
   "metadata": {},
   "outputs": [
    {
     "data": {
      "text/plain": [
       "<_io.BufferedRandom name='./audio/redacted_a.mp3'>"
      ]
     },
     "execution_count": 147,
     "metadata": {},
     "output_type": "execute_result"
    }
   ],
   "source": [
    "audio.export(\"./audio/redacted_a.mp3\", format=\"mp3\")\n"
   ]
  },
  {
   "cell_type": "code",
   "execution_count": 115,
   "id": "38cf8c05-3cf3-423f-bf53-654aa98eabee",
   "metadata": {},
   "outputs": [
    {
     "data": {
      "text/plain": [
       "[' John', ' 813-567-980', ' Lake Viox']"
      ]
     },
     "execution_count": 115,
     "metadata": {},
     "output_type": "execute_result"
    }
   ],
   "source": [
    "words_to_silence"
   ]
  },
  {
   "cell_type": "code",
   "execution_count": 116,
   "id": "90575d82-7482-4adf-b48a-8b64b0cf5ad9",
   "metadata": {},
   "outputs": [
    {
     "data": {
      "text/plain": [
       "[{'word': ' Hey', 'start': 0.0, 'end': 1.14, 'probability': 0.694226086139679},\n",
       " {'word': ' my',\n",
       "  'start': 1.14,\n",
       "  'end': 2.04,\n",
       "  'probability': 0.29764410853385925},\n",
       " {'word': ' name',\n",
       "  'start': 2.04,\n",
       "  'end': 2.28,\n",
       "  'probability': 0.996715784072876},\n",
       " {'word': ' is',\n",
       "  'start': 2.28,\n",
       "  'end': 2.46,\n",
       "  'probability': 0.9935603141784668},\n",
       " {'word': ' John',\n",
       "  'start': 2.46,\n",
       "  'end': 2.74,\n",
       "  'probability': 0.7001069784164429},\n",
       " {'word': ' my',\n",
       "  'start': 2.74,\n",
       "  'end': 3.96,\n",
       "  'probability': 0.44776391983032227},\n",
       " {'word': ' phone',\n",
       "  'start': 3.96,\n",
       "  'end': 4.26,\n",
       "  'probability': 0.9741031527519226},\n",
       " {'word': ' number',\n",
       "  'start': 4.26,\n",
       "  'end': 4.56,\n",
       "  'probability': 0.9960719347000122},\n",
       " {'word': ' is',\n",
       "  'start': 4.56,\n",
       "  'end': 4.88,\n",
       "  'probability': 0.9915987253189087},\n",
       " {'word': ' 813',\n",
       "  'start': 4.88,\n",
       "  'end': 5.78,\n",
       "  'probability': 0.8989248275756836},\n",
       " {'word': '-567',\n",
       "  'start': 5.78,\n",
       "  'end': 7.3,\n",
       "  'probability': 0.7167696058750153},\n",
       " {'word': '-980', 'start': 7.3, 'end': 8.6, 'probability': 0.941660205523173},\n",
       " {'word': ' and',\n",
       "  'start': 8.6,\n",
       "  'end': 9.94,\n",
       "  'probability': 0.7521302103996277},\n",
       " {'word': ' I', 'start': 9.94, 'end': 10.1, 'probability': 0.922917366027832},\n",
       " {'word': ' live',\n",
       "  'start': 10.1,\n",
       "  'end': 10.34,\n",
       "  'probability': 0.9963147044181824},\n",
       " {'word': ' in',\n",
       "  'start': 10.34,\n",
       "  'end': 10.52,\n",
       "  'probability': 0.9924755692481995},\n",
       " {'word': ' Lake',\n",
       "  'start': 10.52,\n",
       "  'end': 10.7,\n",
       "  'probability': 0.8720840811729431},\n",
       " {'word': ' Viox',\n",
       "  'start': 10.7,\n",
       "  'end': 11.24,\n",
       "  'probability': 0.37894291679064435}]"
      ]
     },
     "execution_count": 116,
     "metadata": {},
     "output_type": "execute_result"
    }
   ],
   "source": [
    "transcribed_word_timestamps"
   ]
  },
  {
   "cell_type": "code",
   "execution_count": null,
   "id": "8afebbb5-923d-481d-a553-9f7da79816bc",
   "metadata": {},
   "outputs": [],
   "source": []
  }
 ],
 "metadata": {
  "kernelspec": {
   "display_name": "Python 3 (ipykernel)",
   "language": "python",
   "name": "python3"
  },
  "language_info": {
   "codemirror_mode": {
    "name": "ipython",
    "version": 3
   },
   "file_extension": ".py",
   "mimetype": "text/x-python",
   "name": "python",
   "nbconvert_exporter": "python",
   "pygments_lexer": "ipython3",
   "version": "3.8.9"
  }
 },
 "nbformat": 4,
 "nbformat_minor": 5
}
