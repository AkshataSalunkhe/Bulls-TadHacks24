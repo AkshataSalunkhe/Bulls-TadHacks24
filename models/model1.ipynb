{
 "cells": [
  {
   "cell_type": "code",
   "execution_count": 1,
   "metadata": {},
   "outputs": [
    {
     "name": "stderr",
     "output_type": "stream",
     "text": [
      "/opt/homebrew/lib/python3.11/site-packages/tqdm/auto.py:21: TqdmWarning: IProgress not found. Please update jupyter and ipywidgets. See https://ipywidgets.readthedocs.io/en/stable/user_install.html\n",
      "  from .autonotebook import tqdm as notebook_tqdm\n",
      "/opt/homebrew/lib/python3.11/site-packages/transformers/utils/generic.py:311: UserWarning: torch.utils._pytree._register_pytree_node is deprecated. Please use torch.utils._pytree.register_pytree_node instead.\n",
      "  torch.utils._pytree._register_pytree_node(\n"
     ]
    }
   ],
   "source": [
    "from transformers import pipeline"
   ]
  },
  {
   "cell_type": "code",
   "execution_count": 2,
   "metadata": {},
   "outputs": [
    {
     "name": "stderr",
     "output_type": "stream",
     "text": [
      "Downloading config.json: 100%|██████████| 6.31k/6.31k [00:00<00:00, 1.92MB/s]\n",
      "Downloading pytorch_model.bin: 100%|██████████| 555M/555M [00:25<00:00, 21.9MB/s] \n",
      "Downloading tokenizer_config.json: 100%|██████████| 1.31k/1.31k [00:00<00:00, 1.37MB/s]\n",
      "Downloading vocab.json: 100%|██████████| 798k/798k [00:00<00:00, 9.27MB/s]\n",
      "Downloading merges.txt: 100%|██████████| 456k/456k [00:00<00:00, 8.62MB/s]\n",
      "Downloading tokenizer.json: 100%|██████████| 2.11M/2.11M [00:00<00:00, 13.6MB/s]\n",
      "Downloading added_tokens.json: 100%|██████████| 78.0/78.0 [00:00<00:00, 327kB/s]\n",
      "Downloading (…)cial_tokens_map.json: 100%|██████████| 173/173 [00:00<00:00, 696kB/s]\n"
     ]
    }
   ],
   "source": [
    "gen = pipeline(\"token-classification\", \"lakshyakh93/deberta_finetuned_pii\", device=-1)\n"
   ]
  },
  {
   "cell_type": "code",
   "execution_count": 25,
   "metadata": {},
   "outputs": [
    {
     "name": "stderr",
     "output_type": "stream",
     "text": [
      "/opt/homebrew/lib/python3.11/site-packages/transformers/pipelines/token_classification.py:393: UserWarning: Tokenizer does not support real words, using fallback heuristic\n",
      "  warnings.warn(\n"
     ]
    }
   ],
   "source": [
    "text = \"You have reached the essence of Harygon. This is Dana. I'll be assisting you with your inquiries today. Please be informed that this call is being recorded and monitored for quality assurance purposes. How may I help you? Well, I got this essence of argon oil for shipping handling and handling cost to $5.99. A sample of it. If I want to cancel the order, I had to do it within 15 days. That is what I wanted to do. I didn't want to get, you know, like a monthly $83 a month. I can't afford that. Okay, I'm more than happy to assist you. For me to be able to pull up your subscription here, because you can't provide me your first and your last name. From Carolyn, C-A-R-O-L-Y-N, Lake, L-A-K-E. Okay, go ahead to pull up your subscription here or your account. Could you go to Bradfire Emaladis please? It's Lake 3921 at hotmail.com. How much are shipping address? 310, Warren Avenue, number two. Delight Wyoming, 82716. Is your shipping address same as your billing address? Correct. How about your phone number? 307, 680, 2068. Thank you very much for that information. If you don't want me asking me the reason why you want to cancel the subscription. I thought I was just getting a sample order of it. Have you already worked in everything? Yes, I have. Not all of it, but I have been using that. Okay, I don't understand that, missfully. This is what I can do for you, for you to be able to maximize or enjoy the benefits of the organ. I'll go into extend your pre-trial for another 15 days with no charge. At least you do have 15 days to enjoy the amazing product. Then I'll give us a call back before the end of the 15-day additional or extension period to give us the feedback. Because what I heard from you is that you haven't used the product that much, so you're not here, you're not yet getting what the benefits of it. This is the reason why I'm extending your period or your pre-trial for you to be able to enjoy and discover the benefits of essence of organ. Okay. Okay. More date with that? Okay. Let me check here. So you're already extended your pre-trial. It will end on August 24th. So you need to give us a call back before August 24th to give us a feedback. I mean, what happened to the product if it didn't give you the benefits that you need? But let's say you love the product, you like the product, you don't need to give us a call back then. It will be automatically, you will be receiving another bottle for your monthly subscription. And on set of a call, I heard that you're dealing about the price, which is $83 and $83, right? Okay. So what I can do for you is, aside from extending your pre-trial for another 15 days, I'm also giving you my employee discount, which is 20% discount. So instead of paying $83 and $80, who are going to pay only $67 and how about that? I can't afford that. Okay. This is my maximum employee discount. A 40% employee discount, I'll give it to you. It's actually a lifetime employee discount. So instead of paying $83 and $80, they're just repaying $50 and $28. No, I can't. I cannot do that. I can't. I'd like to. I wanted to ask you too, is. Go ahead. How often am I supposed to use that like at night or? Yes. As long as you want. Just use it at night. Yes. As long as you want. As long as you need it. Oh. Okay. Okay. Um, is like, can I just put you in? Yeah, I can't afford. Can I just put you in one for a minute? Sure. Thank you. Thank you very much for your patience, the waiting miss Leak. Okay. I read my supervisor and she asked me what amount would you feel the product will be more affordable for you and make your continuous subscription with us? No. Um, if we will ask you, do you think I could, you know, like $15. I know that, you know, but that. Okay. Ma'am, don't worry. That's great. Because already giving you my employee discount of 40% right? So my supervisor can give you another 40% so that's an equivalent of 80%. So instead of paying $82.80, what you will be paying is only $16.76 every month for everybody. How about that? That sounds great. Okay. That's great. So I'm extending your pre trial until August 24th. So after August 24th, you will be charged only $16.76. Okay. So every month you will be paying, I mean, you will be receiving a bottle of persons of art and you will be enjoying the benefits of the product, but you will be only paying $16.76. Okay. Okay. Okay. So that's great. So just for a recap miss Leak, I extend that your pre trial for another 15 days. And it's going to be end on August 24th. So you can give us a call back by within that period of time to give us a feedback. But if like what I said, if you enjoy the product, it gives you the benefits, the amazing benefits of the product. You don't need to give us a call back. It will be automatically. You will be receiving a subscription every month, but you will be only paying $16.76 because you already give you our employee discount of 80%. For less than. Okay. Okay. All right. Okay. So is there anything else we can help you with? No, that would be it. Okay. So we value your distance. Thank you for calling essence of art. Go ahead. Have a great day. You too. Bye. Bye.\"\n"
   ]
  },
  {
   "cell_type": "code",
   "execution_count": 28,
   "metadata": {},
   "outputs": [
    {
     "name": "stderr",
     "output_type": "stream",
     "text": [
      "/opt/homebrew/lib/python3.11/site-packages/transformers/pipelines/token_classification.py:393: UserWarning: Tokenizer does not support real words, using fallback heuristic\n",
      "  warnings.warn(\n"
     ]
    }
   ],
   "source": [
    "import re \n",
    "clean_text = re.sub(r\"[^a-zA-Z0-9\\s]\", \"\", text).lower()\n",
    "output = gen(clean_text, aggregation_strategy=\"first\")"
   ]
  },
  {
   "cell_type": "code",
   "execution_count": 37,
   "metadata": {},
   "outputs": [],
   "source": [
    "red = [i['word'].strip().replace('.','').replace('.','')  for i in output if i['score']>0.3]\n",
    "red_text = []\n",
    "for i in clean_text.split():\n",
    "    if i in red:\n",
    "        red_text.append(\"['REDACTED']\")\n",
    "    else:\n",
    "        red_text.append(i)\n",
    "    \n",
    "    \n",
    "    \n",
    "    "
   ]
  },
  {
   "cell_type": "code",
   "execution_count": 38,
   "metadata": {},
   "outputs": [
    {
     "data": {
      "text/plain": [
       "\"you have reached the essence of ['REDACTED'] this is ['REDACTED'] ill be assisting you with your inquiries today please be informed that this call is being recorded and monitored for quality assurance purposes how may i help you well i got this essence of argon oil for shipping handling and handling cost to ['REDACTED'] a sample of it if i want to cancel the order i had to do it within 15 days that is what i wanted to do i didnt want to get you know like a monthly ['REDACTED'] a month i cant afford that okay im more than happy to assist you for me to be able to pull up your subscription here because you cant provide me your first and your last name from ['REDACTED'] ['REDACTED'] ['REDACTED'] ['REDACTED'] okay go ahead to pull up your subscription here or your account could you go to bradfire emaladis please its ['REDACTED'] ['REDACTED'] at hotmailcom how much are shipping address 310 warren avenue number two delight ['REDACTED'] ['REDACTED'] is your shipping address same as your billing address correct how about your phone number ['REDACTED'] ['REDACTED'] ['REDACTED'] thank you very much for that information if you dont want me asking me the reason why you want to cancel the subscription i thought i was just getting a sample order of it have you already worked in everything yes i have not all of it but i have been using that okay i dont understand that ['REDACTED'] this is what i can do for you for you to be able to maximize or enjoy the benefits of the organ ill go into extend your pretrial for another 15 days with no charge at least you do have 15 days to enjoy the amazing product then ill give us a call back before the end of the 15day additional or extension period to give us the feedback because what i heard from you is that you havent used the product that much so youre not here youre not yet getting what the benefits of it this is the reason why im extending your period or your pretrial for you to be able to enjoy and discover the benefits of essence of organ okay okay more date with that okay let me check here so youre already extended your pretrial it will end on august 24th so you need to give us a call back before august 24th to give us a feedback i mean what happened to the product if it didnt give you the benefits that you need but lets say you love the product you like the product you dont need to give us a call back then it will be automatically you will be receiving another bottle for your monthly subscription and on set of a call i heard that youre dealing about the price which is ['REDACTED'] and ['REDACTED'] right okay so what i can do for you is aside from extending your pretrial for another 15 days im also giving you my employee discount which is 20 discount so instead of paying ['REDACTED'] and 80 who are going to pay only 67 and how about that i cant afford that okay this is my maximum employee discount a 40 employee discount ill give it to you its actually a lifetime employee discount so instead of paying ['REDACTED'] and 80 theyre just repaying 50 and 28 no i cant i cannot do that i cant id like to i wanted to ask you too is go ahead how often am i supposed to use that like at night or yes as long as you want just use it at night yes as long as you want as long as you need it oh okay okay um is like can i just put you in yeah i cant afford can i just put you in one for a minute sure thank you thank you very much for your patience the waiting miss leak okay i read my supervisor and she asked me what amount would you feel the product will be more affordable for you and make your continuous subscription with us no um if we will ask you do you think i could you know like 15 i know that you know but that okay maam dont worry thats great because already giving you my employee discount of 40 right so my supervisor can give you another 40 so thats an equivalent of 80 so instead of paying 8280 what you will be paying is only 1676 every month for everybody how about that that sounds great okay thats great so im extending your pre trial until august 24th so after august 24th you will be charged only 1676 okay so every month you will be paying i mean you will be receiving a bottle of persons of art and you will be enjoying the benefits of the product but you will be only paying 1676 okay okay okay so thats great so just for a recap miss leak i extend that your pre trial for another 15 days and its going to be end on august 24th so you can give us a call back by within that period of time to give us a feedback but if like what i said if you enjoy the product it gives you the benefits the amazing benefits of the product you dont need to give us a call back it will be automatically you will be receiving a subscription every month but you will be only paying 1676 because you already give you our employee discount of 80 for less than okay okay all right okay so is there anything else we can help you with no that would be it okay so we value your distance thank you for calling essence of art go ahead have a great day you too bye bye\""
      ]
     },
     "execution_count": 38,
     "metadata": {},
     "output_type": "execute_result"
    }
   ],
   "source": [
    "' '.join(red_text)"
   ]
  },
  {
   "cell_type": "code",
   "execution_count": 39,
   "metadata": {},
   "outputs": [
    {
     "data": {
      "text/plain": [
       "\"You have reached the essence of Harygon. This is Dana. I'll be assisting you with your inquiries today. Please be informed that this call is being recorded and monitored for quality assurance purposes. How may I help you? Well, I got this essence of argon oil for shipping handling and handling cost to $5.99. A sample of it. If I want to cancel the order, I had to do it within 15 days. That is what I wanted to do. I didn't want to get, you know, like a monthly $83 a month. I can't afford that. Okay, I'm more than happy to assist you. For me to be able to pull up your subscription here, because you can't provide me your first and your last name. From Carolyn, C-A-R-O-L-Y-N, Lake, L-A-K-E. Okay, go ahead to pull up your subscription here or your account. Could you go to Bradfire Emaladis please? It's Lake 3921 at hotmail.com. How much are shipping address? 310, Warren Avenue, number two. Delight Wyoming, 82716. Is your shipping address same as your billing address? Correct. How about your phone number? 307, 680, 2068. Thank you very much for that information. If you don't want me asking me the reason why you want to cancel the subscription. I thought I was just getting a sample order of it. Have you already worked in everything? Yes, I have. Not all of it, but I have been using that. Okay, I don't understand that, missfully. This is what I can do for you, for you to be able to maximize or enjoy the benefits of the organ. I'll go into extend your pre-trial for another 15 days with no charge. At least you do have 15 days to enjoy the amazing product. Then I'll give us a call back before the end of the 15-day additional or extension period to give us the feedback. Because what I heard from you is that you haven't used the product that much, so you're not here, you're not yet getting what the benefits of it. This is the reason why I'm extending your period or your pre-trial for you to be able to enjoy and discover the benefits of essence of organ. Okay. Okay. More date with that? Okay. Let me check here. So you're already extended your pre-trial. It will end on August 24th. So you need to give us a call back before August 24th to give us a feedback. I mean, what happened to the product if it didn't give you the benefits that you need? But let's say you love the product, you like the product, you don't need to give us a call back then. It will be automatically, you will be receiving another bottle for your monthly subscription. And on set of a call, I heard that you're dealing about the price, which is $83 and $83, right? Okay. So what I can do for you is, aside from extending your pre-trial for another 15 days, I'm also giving you my employee discount, which is 20% discount. So instead of paying $83 and $80, who are going to pay only $67 and how about that? I can't afford that. Okay. This is my maximum employee discount. A 40% employee discount, I'll give it to you. It's actually a lifetime employee discount. So instead of paying $83 and $80, they're just repaying $50 and $28. No, I can't. I cannot do that. I can't. I'd like to. I wanted to ask you too, is. Go ahead. How often am I supposed to use that like at night or? Yes. As long as you want. Just use it at night. Yes. As long as you want. As long as you need it. Oh. Okay. Okay. Um, is like, can I just put you in? Yeah, I can't afford. Can I just put you in one for a minute? Sure. Thank you. Thank you very much for your patience, the waiting miss Leak. Okay. I read my supervisor and she asked me what amount would you feel the product will be more affordable for you and make your continuous subscription with us? No. Um, if we will ask you, do you think I could, you know, like $15. I know that, you know, but that. Okay. Ma'am, don't worry. That's great. Because already giving you my employee discount of 40% right? So my supervisor can give you another 40% so that's an equivalent of 80%. So instead of paying $82.80, what you will be paying is only $16.76 every month for everybody. How about that? That sounds great. Okay. That's great. So I'm extending your pre trial until August 24th. So after August 24th, you will be charged only $16.76. Okay. So every month you will be paying, I mean, you will be receiving a bottle of persons of art and you will be enjoying the benefits of the product, but you will be only paying $16.76. Okay. Okay. Okay. So that's great. So just for a recap miss Leak, I extend that your pre trial for another 15 days. And it's going to be end on August 24th. So you can give us a call back by within that period of time to give us a feedback. But if like what I said, if you enjoy the product, it gives you the benefits, the amazing benefits of the product. You don't need to give us a call back. It will be automatically. You will be receiving a subscription every month, but you will be only paying $16.76 because you already give you our employee discount of 80%. For less than. Okay. Okay. All right. Okay. So is there anything else we can help you with? No, that would be it. Okay. So we value your distance. Thank you for calling essence of art. Go ahead. Have a great day. You too. Bye. Bye.\""
      ]
     },
     "execution_count": 39,
     "metadata": {},
     "output_type": "execute_result"
    }
   ],
   "source": [
    "text"
   ]
  },
  {
   "cell_type": "code",
   "execution_count": 40,
   "metadata": {},
   "outputs": [
    {
     "data": {
      "text/plain": [
       "[{'entity_group': 'FIRSTNAME',\n",
       "  'score': 0.52756625,\n",
       "  'word': ' harygon',\n",
       "  'start': 31,\n",
       "  'end': 39},\n",
       " {'entity_group': 'FIRSTNAME',\n",
       "  'score': 0.8920724,\n",
       "  'word': ' dana',\n",
       "  'start': 47,\n",
       "  'end': 52},\n",
       " {'entity_group': 'CURRENCYNAME',\n",
       "  'score': 0.77696353,\n",
       "  'word': ' argon oil',\n",
       "  'start': 242,\n",
       "  'end': 252},\n",
       " {'entity_group': 'AMOUNT',\n",
       "  'score': 0.9614035,\n",
       "  'word': ' 599',\n",
       "  'start': 295,\n",
       "  'end': 299},\n",
       " {'entity_group': 'AMOUNT',\n",
       "  'score': 0.97845197,\n",
       "  'word': ' 83',\n",
       "  'start': 446,\n",
       "  'end': 449},\n",
       " {'entity_group': 'FIRSTNAME',\n",
       "  'score': 0.7426768,\n",
       "  'word': ' carolyn',\n",
       "  'start': 629,\n",
       "  'end': 637},\n",
       " {'entity_group': 'MIDDLENAME',\n",
       "  'score': 0.7986695,\n",
       "  'word': ' carolyn',\n",
       "  'start': 637,\n",
       "  'end': 645},\n",
       " {'entity_group': 'CITY',\n",
       "  'score': 0.5825125,\n",
       "  'word': ' lake lake',\n",
       "  'start': 645,\n",
       "  'end': 655},\n",
       " {'entity_group': 'STREET',\n",
       "  'score': 0.97247064,\n",
       "  'word': ' bradfire emaladis',\n",
       "  'start': 735,\n",
       "  'end': 753},\n",
       " {'entity_group': 'SECONDARYADDRESS',\n",
       "  'score': 0.31928584,\n",
       "  'word': ' lake',\n",
       "  'start': 764,\n",
       "  'end': 769},\n",
       " {'entity_group': 'BUILDINGNUMBER',\n",
       "  'score': 0.97998,\n",
       "  'word': ' 3921',\n",
       "  'start': 769,\n",
       "  'end': 774},\n",
       " {'entity_group': 'STREETADDRESS',\n",
       "  'score': 0.9840728,\n",
       "  'word': ' 310 warren avenue number two',\n",
       "  'start': 818,\n",
       "  'end': 847},\n",
       " {'entity_group': 'STATE',\n",
       "  'score': 0.24444829,\n",
       "  'word': ' delight',\n",
       "  'start': 847,\n",
       "  'end': 855},\n",
       " {'entity_group': 'STATE',\n",
       "  'score': 0.7034053,\n",
       "  'word': ' wyoming',\n",
       "  'start': 855,\n",
       "  'end': 863},\n",
       " {'entity_group': 'BUILDINGNUMBER',\n",
       "  'score': 0.9127506,\n",
       "  'word': ' 82716',\n",
       "  'start': 863,\n",
       "  'end': 869},\n",
       " {'entity_group': 'PHONE_NUMBER',\n",
       "  'score': 0.7701234,\n",
       "  'word': ' 307',\n",
       "  'start': 959,\n",
       "  'end': 963},\n",
       " {'entity_group': 'SSN',\n",
       "  'score': 0.48228484,\n",
       "  'word': ' 680',\n",
       "  'start': 963,\n",
       "  'end': 967},\n",
       " {'entity_group': 'PHONE_NUMBER',\n",
       "  'score': 0.49721956,\n",
       "  'word': ' 2068',\n",
       "  'start': 967,\n",
       "  'end': 972},\n",
       " {'entity_group': 'PREFIX',\n",
       "  'score': 0.4887744,\n",
       "  'word': ' missfully',\n",
       "  'start': 1262,\n",
       "  'end': 1272},\n",
       " {'entity_group': 'DATE',\n",
       "  'score': 0.99817437,\n",
       "  'word': ' august 24th',\n",
       "  'start': 1993,\n",
       "  'end': 2005},\n",
       " {'entity_group': 'DATE',\n",
       "  'score': 0.9978285,\n",
       "  'word': ' august 24th',\n",
       "  'start': 2047,\n",
       "  'end': 2059}]"
      ]
     },
     "execution_count": 40,
     "metadata": {},
     "output_type": "execute_result"
    }
   ],
   "source": [
    "output"
   ]
  },
  {
   "cell_type": "code",
   "execution_count": null,
   "metadata": {},
   "outputs": [],
   "source": []
  }
 ],
 "metadata": {
  "interpreter": {
   "hash": "b0fa6594d8f4cbf19f97940f81e996739fb7646882a419484c72d19e05852a7e"
  },
  "kernelspec": {
   "display_name": "Python 3.11.6 64-bit",
   "language": "python",
   "name": "python3"
  },
  "language_info": {
   "codemirror_mode": {
    "name": "ipython",
    "version": 3
   },
   "file_extension": ".py",
   "mimetype": "text/x-python",
   "name": "python",
   "nbconvert_exporter": "python",
   "pygments_lexer": "ipython3",
   "version": "3.12.2"
  },
  "orig_nbformat": 4
 },
 "nbformat": 4,
 "nbformat_minor": 2
}
